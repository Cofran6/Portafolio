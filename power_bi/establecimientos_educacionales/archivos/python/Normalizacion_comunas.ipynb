{
 "cells": [
  {
   "cell_type": "code",
   "execution_count": 14,
   "id": "c6a01711-0233-467d-beab-3886ea48eff3",
   "metadata": {},
   "outputs": [
    {
     "name": "stdout",
     "output_type": "stream",
     "text": [
      "Archivo dim_comunas.csv exportado correctamente.\n"
     ]
    }
   ],
   "source": [
    "import pandas as pd\n",
    "\n",
    "# Cargar dataset \n",
    "\n",
    "df = pd.read_csv(\"establecimientos.csv\", sep=\";\", encoding=\"latin-1\")\n",
    "\n",
    "# Seleccionar solo las columnas necesarias\n",
    "\n",
    "comunas = df[[\"COD_REG_RBD\", \"COD_PRO_RBD\", \"COD_COM_RBD\", \"NOM_COM_RBD\"]].copy()\n",
    "\n",
    "# Quitar duplicados\n",
    "\n",
    "comunas = comunas.drop_duplicates()\n",
    "\n",
    "# Renombrar columnas con convención estandarizada\n",
    "\n",
    "comunas = comunas.rename(columns={\n",
    "    \"COD_REG_RBD\": \"cod_region\",\n",
    "    \"COD_PRO_RBD\": \"cod_provincia\",\n",
    "    \"COD_COM_RBD\": \"cod_comuna\",\n",
    "    \"NOM_COM_RBD\": \"nombre_comuna\"\n",
    "})\n",
    "\n",
    "# Guardar a un nuevo CSV\n",
    "\n",
    "comunas.to_csv(\"Comunas.csv\", index=False, encoding=\"utf-8-sig\")\n",
    "\n",
    "print(\"Archivo dim_comunas.csv exportado correctamente.\")"
   ]
  }
 ],
 "metadata": {
  "kernelspec": {
   "display_name": "Python [conda env:base] *",
   "language": "python",
   "name": "conda-base-py"
  },
  "language_info": {
   "codemirror_mode": {
    "name": "ipython",
    "version": 3
   },
   "file_extension": ".py",
   "mimetype": "text/x-python",
   "name": "python",
   "nbconvert_exporter": "python",
   "pygments_lexer": "ipython3",
   "version": "3.12.7"
  }
 },
 "nbformat": 4,
 "nbformat_minor": 5
}
